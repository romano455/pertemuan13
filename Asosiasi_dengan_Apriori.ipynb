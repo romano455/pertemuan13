{
  "nbformat": 4,
  "nbformat_minor": 0,
  "metadata": {
    "colab": {
      "name": "Asosiasi dengan Apriori.ipynb",
      "provenance": []
    },
    "kernelspec": {
      "name": "python3",
      "display_name": "Python 3"
    },
    "language_info": {
      "name": "python"
    }
  },
  "cells": [
    {
      "cell_type": "code",
      "metadata": {
        "id": "DJbdPGErpIQN"
      },
      "source": [
        "# sumber File => http://www.geeksforrgeeks.org/implementing-apriori-algorithm-in-python/\n",
        "# sumber FDataset => http://archive.ics.uci.edu/ml/datasets/Online+Retail\n",
        "# muhamad nur roochman\n",
        "# A11.2018.11131"
      ],
      "execution_count": null,
      "outputs": []
    },
    {
      "cell_type": "code",
      "metadata": {
        "id": "EyZ7eQNJdBWG"
      },
      "source": [
        "#  \n",
        "import numpy as np\n",
        "import pandas as pd\n",
        "from mlxtend.frequent_patterns import apriori, association_rulen"
      ],
      "execution_count": null,
      "outputs": []
    },
    {
      "cell_type": "code",
      "metadata": {
        "id": "y_oUg41XoaUG"
      },
      "source": [
        "data = pd.read_excel(\"Onlier_retail.xlsx\")\n",
        "data.head()"
      ],
      "execution_count": null,
      "outputs": []
    },
    {
      "cell_type": "code",
      "metadata": {
        "id": "BQ1jicdxoxj3"
      },
      "source": [
        "data.columns"
      ],
      "execution_count": null,
      "outputs": []
    },
    {
      "cell_type": "code",
      "metadata": {
        "id": "pQlajkcuo24N"
      },
      "source": [
        "data.Country.uniquen()"
      ],
      "execution_count": null,
      "outputs": []
    },
    {
      "cell_type": "code",
      "metadata": {
        "id": "r9fCvUpUo-7b"
      },
      "source": [
        "# langkah 3: membersihkan data\n",
        "# menghapus ruang ektra dalam deskripsi \n",
        "  data ['Descripsition'] = data ['Description'].str.strip()\n",
        "# menghapus baris tanpa nomor fakture (InvoiceNo)\n",
        "  data.dropna(axis = 0, subset =['InvoIceNo'],inplace = True)\n",
        "  data['InvoIceNo'] = data['InvoIceNo'].astype('str')\n",
        "# menghapus semua transaktion yang di lakukan secara kredit    \n",
        "  data = data [~data['InvoIceNo'].str.contains('c')]\n"
      ],
      "execution_count": null,
      "outputs": []
    },
    {
      "cell_type": "code",
      "metadata": {
        "id": "LMqNeWr-suLf"
      },
      "source": [
        "# langkah 4= memisahkan data sesuai dengan wilayah transaktion \n",
        "# Transaktion dilakukan di 4 negara \n",
        "  basket_UK = (data[data['country']==\"Untited Kingdom\"]\n",
        "               .groupby(['InvoIceNo','description'])['Quantity']\n",
        "               .sum().unstack().reset_index().fillna(0)\n",
        "               .set_index('InvoIceNo'))\n",
        "  # transaktion dilakukan di Unitetd Kingdim\n",
        "    basket_France= (data[data['country']==\"France\"]\n",
        "               .groupby(['InvoIceNo','description'])['Quantity']\n",
        "               .sum().unstack().reset_index().fillna(0)\n",
        "               .set_index('InvoIceNo'))\n",
        "    \n",
        "  # transaktion dilakukan di Portugal\n",
        "    basket_Por= (data[data['country']==\"Portugal\"]\n",
        "               .groupby(['InvoIceNo','description'])['Quantity']\n",
        "               .sum().unstack().reset_index().fillna(0)\n",
        "               .set_index('InvoIceNo'))\n",
        "  # transaktion dilakukan di Sweden\n",
        "    basket_Sweden= (data[data['country']==\"Sweden\"]\n",
        "               .groupby(['InvoIceNo','description'])['Quantity']\n",
        "               .sum().unstack().reset_index().fillna(0)\n",
        "               .set_index('InvoIceNo'))\n"
      ],
      "execution_count": null,
      "outputs": []
    },
    {
      "cell_type": "code",
      "metadata": {
        "id": "WDlNL0vWvbWG"
      },
      "source": [
        "# langkah 5 pr=engkodean data dengan \"Hot Encoduing\"\n",
        "# mendefinisikan fungsi \"Hot Encoding\" untuk membuat data sesuai untuk library yang berankutan \n",
        "  def hot_encode(x):\n",
        "    if(x<=0):\n",
        "      return 0\n",
        "    if(x>=1):\n",
        "      return 1\n",
        "      "
      ],
      "execution_count": null,
      "outputs": []
    },
    {
      "cell_type": "code",
      "metadata": {
        "id": "UYupkYAHwvim"
      },
      "source": [
        "# mengkodekan dataset \n",
        "  basket_encoded = basket_France.applymap(hot_encode)\n",
        "  basket_france = basket_encoded\n",
        "\n",
        "  basket_encoded = basket_UK.applymap(hot_encode)\n",
        "  basket_UK = basket_encoded\n",
        "\n",
        "   basket_encoded = basket_Por.applymap(hot_encode)\n",
        "  basket_por = basket_encoded\n",
        "  \n",
        "  basket_encoded = basket_Sweden.applymap(hot_encode)\n",
        "  basket_Sweden = basket_encoded"
      ],
      "execution_count": null,
      "outputs": []
    },
    {
      "cell_type": "code",
      "metadata": {
        "id": "FnYo-kAQyAzQ"
      },
      "source": [
        "# langkah 6 membangun model dan menganalissa hasil \n",
        "# 1) France \n",
        "# Membagun model \n",
        "  frq_items = apriori(basket_France, min_support = 0.05, use_colnames = True )\n",
        "\n",
        "# mengumpulkan aturan yang disiplin dalam dataframe \n",
        "  rules = associotion_rules(frq_items, metric = \"lift\", min_threshold = 1)\n",
        "  rules = rules.sort_values(['confidence', 'lift',] ascending =[False, False])\n",
        "#  print(rules.head())\n",
        "  rules.head(4)"
      ],
      "execution_count": null,
      "outputs": []
    },
    {
      "cell_type": "code",
      "metadata": {
        "id": "Tj6B69al0Ngv"
      },
      "source": [
        "# 2)United kingdom\n",
        "  frq_items = apriori(basket_UK, min_support = 0.01, use_colnames = True )\n",
        "  ules = associotion_rules(frq_items, metric = \"lift\", min_threshold = 1)\n",
        "  rules = rules.sort_values(['confidence', 'lift',] ascending =[False, False])\n",
        "  rules.head(30)"
      ],
      "execution_count": null,
      "outputs": []
    },
    {
      "cell_type": "code",
      "metadata": {
        "id": "SdxOHT9F2sj6"
      },
      "source": [
        "# 3) Portugal\n",
        " frq_items = apriori(basket_Por, min_support = 0.06, use_colnames = True )\n",
        "  ules = associotion_rules(frq_items, metric = \"lift\", min_threshold = 1)\n",
        "  rules = rules.sort_values(['confidence', 'lift',] ascending =[False, False])\n",
        "  rules.head(21)"
      ],
      "execution_count": null,
      "outputs": []
    },
    {
      "cell_type": "code",
      "metadata": {
        "id": "1ZH-hvUk24Iy"
      },
      "source": [
        "# 4) Sweden \n",
        "  frq_items = apriori(basket_Sweden, min_support = 0.05, use_colnames = True )\n",
        "  ules = associotion_rules(frq_items, metric = \"lift\", min_threshold = 1)\n",
        "  rules = rules.sort_values(['confidence', 'lift',] ascending =[False, False])\n",
        "  rules.head(80)"
      ],
      "execution_count": null,
      "outputs": []
    },
    {
      "cell_type": "code",
      "metadata": {
        "id": "K_nFqEJi3ZVp"
      },
      "source": [
        ""
      ],
      "execution_count": null,
      "outputs": []
    },
    {
      "cell_type": "markdown",
      "metadata": {
        "id": "j9Q8lr98vzRR"
      },
      "source": [
        ""
      ]
    }
  ]
}